{
 "cells": [
  {
   "cell_type": "code",
   "execution_count": 21,
   "metadata": {},
   "outputs": [],
   "source": [
    "import scipy\n",
    "import csv\n",
    "import pandas as pd\n",
    "import math\n",
    "import glob\n",
    "import re"
   ]
  },
  {
   "cell_type": "code",
   "execution_count": 35,
   "metadata": {},
   "outputs": [
    {
     "name": "stdout",
     "output_type": "stream",
     "text": [
      "../provenance/mfa_266675.csv\n",
      "../provenance/mfa_495466.csv\n",
      "../provenance/mfa_35646.csv\n",
      "../provenance/mfa_5844.csv\n",
      "../provenance/mfa_519903.csv\n",
      "../provenance/origin.csv\n"
     ]
    }
   ],
   "source": [
    "for provfile in glob.glob('../provenance/*.csv'):\n",
    "    print(provfile)\n",
    "    df = pd.read_csv(provfile)\n",
    "    if re.split('/|\\.',provfile)[-2] == 'origin':\n",
    "        continue\n",
    "    refNum = int(re.split('_|\\.',provfile)[-2])\n",
    "    properties = []\n",
    "    geometry = []\n",
    "    for index, row in df.iterrows():\n",
    "        prop = []\n",
    "        prop.append('\"index\": \"'+str(row['index'])+'\"')\n",
    "        prop.append('\"year\": \"'+str(row['year'])+'\"')\n",
    "        prop.append('\"buyer\": \"'+row['buyer']+'\"')\n",
    "        prop.append('\"address\": \"'+row['address']+'\"')\n",
    "        prop.append('\"marker-color\": \"'+hex((refNum % 16777215))+'\"')\n",
    "        properties.append(','.join(prop))\n",
    "        geom = []\n",
    "        geom.append('\"type\": \"Point\"')\n",
    "        geom.append('\"coordinates\": ['+str(row['E']) +', '+str(row['N'])+']')\n",
    "        geometry.append(','.join(geom))\n",
    "    lines = []\n",
    "    for ii,(prop,geom) in enumerate(zip(properties,geometry)):\n",
    "        line = '{\"type\": \"Feature\", \"id\": '+str(ii)+', \"properties\": {'+prop+'}, \"geometry\": { '+geom+' } }'\n",
    "        lines.append(line)\n",
    "    f = open('../provenance/'+re.split('/|\\.',provfile)[-2]+'.geojason', \"w\")\n",
    "    f.write('{\\n')\n",
    "    f.write('\"type\": \"FeatureCollection\", \\n')\n",
    "    f.write('\"features\": [\\n')\n",
    "    f.write(',\\n'.join(lines))\n",
    "    f.write('\\n]}')\n",
    "    f.close()"
   ]
  },
  {
   "cell_type": "code",
   "execution_count": 36,
   "metadata": {},
   "outputs": [],
   "source": [
    "provfile = '../provenance/origin.csv'\n",
    "df = pd.read_csv(provfile)\n",
    "properties = []\n",
    "geometry = []\n",
    "for index, row in df.iterrows():\n",
    "    prop = []\n",
    "    prop.append('\"index\": \"'+str(row['index'])+'\"')\n",
    "    prop.append('\"year\": \"'+str(row['year'])+'\"')\n",
    "    prop.append('\"buyer\": \"'+row['buyer']+'\"')\n",
    "    prop.append('\"address\": \"'+row['address']+'\"')\n",
    "    prop.append('\"marker-color\": \"'+hex((row['index'] % 16777215))+'\"')\n",
    "    properties.append(','.join(prop))\n",
    "    geom = []\n",
    "    geom.append('\"type\": \"Point\"')\n",
    "    geom.append('\"coordinates\": ['+str(row['E']) +', '+str(row['N'])+']')\n",
    "    geometry.append(','.join(geom))\n",
    "lines = []\n",
    "for ii,(prop,geom) in enumerate(zip(properties,geometry)):\n",
    "    line = '{\"type\": \"Feature\", \"id\": '+str(ii)+', \"properties\": {'+prop+'}, \"geometry\": { '+geom+' } }'\n",
    "    lines.append(line)\n",
    "f = open('../provenance/'+re.split('/|\\.',provfile)[-2]+'.geojason', \"w\")\n",
    "f.write('{\\n')\n",
    "f.write('\"type\": \"FeatureCollection\", \\n')\n",
    "f.write('\"features\": [\\n')\n",
    "f.write(',\\n'.join(lines))\n",
    "f.write('\\n]}')\n",
    "f.close()"
   ]
  },
  {
   "cell_type": "code",
   "execution_count": 169,
   "metadata": {},
   "outputs": [],
   "source": [
    "df = pd.read_csv('cafesList.csv')"
   ]
  },
  {
   "cell_type": "code",
   "execution_count": 176,
   "metadata": {},
   "outputs": [],
   "source": [
    "properties = []\n",
    "geometry = []"
   ]
  },
  {
   "cell_type": "code",
   "execution_count": 177,
   "metadata": {},
   "outputs": [],
   "source": [
    "# For categories, and type\n",
    "catDir  = {1:'Radical', 2:'Moderate', 3:'Apolitical'}\n",
    "typeDir = {'p':'Alch', 'c':'Cfe', 'b':'Brthl', 'i':'Htl'}"
   ]
  },
  {
   "cell_type": "code",
   "execution_count": 178,
   "metadata": {},
   "outputs": [],
   "source": [
    "for index, row in df.iterrows():\n",
    "    prop = []\n",
    "    prop.append('\"index\": \"'+row['index']+'\"')\n",
    "    prop.append('\"year\": \"'+row['year']+'\"')\n",
    "    prop.append('\"buyer\": \"'+catDir[row['buyer']]+'\"')\n",
    "    prop.append('\"address\": \"'+row['address']+'\"')\n",
    "    prop.append('\"marker-color\": \"'+hex((519903 % 16777215))+'\"')\n",
    "    properties.append(','.join(prop))\n",
    "    geom = []\n",
    "    geom.append('\"type\": \"Point\"')\n",
    "    geom.append('\"coordinates\": ['+str(row['E']) +', '+str(row['N'])+']')\n",
    "    geometry.append(','.join(geom))"
   ]
  },
  {
   "cell_type": "code",
   "execution_count": 7,
   "metadata": {},
   "outputs": [
    {
     "data": {
      "text/plain": [
       "'0016d4'"
      ]
     },
     "execution_count": 7,
     "metadata": {},
     "output_type": "execute_result"
    }
   ],
   "source": [
    "hex((5844 % 16777215))[2:].zfill(6)"
   ]
  },
  {
   "cell_type": "code",
   "execution_count": 3,
   "metadata": {},
   "outputs": [
    {
     "data": {
      "text/plain": [
       "'0x7eedf'"
      ]
     },
     "execution_count": 3,
     "metadata": {},
     "output_type": "execute_result"
    }
   ],
   "source": [
    "hex(519903)"
   ]
  },
  {
   "cell_type": "code",
   "execution_count": 10,
   "metadata": {},
   "outputs": [
    {
     "data": {
      "text/plain": [
       "21"
      ]
     },
     "execution_count": 10,
     "metadata": {},
     "output_type": "execute_result"
    }
   ],
   "source": [
    "519903 % 33"
   ]
  },
  {
   "cell_type": "code",
   "execution_count": 179,
   "metadata": {},
   "outputs": [],
   "source": [
    "lines = []\n",
    "for ii,(prop,geom) in enumerate(zip(properties,geometry)):\n",
    "    line = '{\"type\": \"Feature\", \"id\": '+str(ii)+', \"properties\": {'+prop+'}, \"geometry\": { '+geom+' } }'\n",
    "    lines.append(line)"
   ]
  },
  {
   "cell_type": "code",
   "execution_count": 180,
   "metadata": {},
   "outputs": [
    {
     "data": {
      "text/plain": [
       "'{\"type\": \"Feature\", \"id\": 1, \"properties\": {\"NAME\": \"George Café\",\"OWNER\": \"Fadel Jamel Kaour\",\"POL\": \"Radical\",\"ADDRESS1\": \"1 Allenby\",\"ADDRESS2\": \"1 Allenby\",\"IMG\": \"img/1_Allenby.png\",\"COMMENT\": \"Owner was police officer in Haifa until 1938, and was removed from the police when it was found that he had a relationship with the gangs. To this day, he still uses his relationships to buy weapons, so he went to work as an employee in the `Steel` company, in order to have a relationship with a group of drivers suitable for him and to implement what was required of him.\",\"ICON\": \"icons/Radical_Alch_trnspnt.png\"}, \"geometry\": { \"type\": \"Point\",\"coordinates\": [34.9728677, 32.828341200000004] } }'"
      ]
     },
     "execution_count": 180,
     "metadata": {},
     "output_type": "execute_result"
    }
   ],
   "source": [
    "lines[1]"
   ]
  },
  {
   "cell_type": "code",
   "execution_count": 181,
   "metadata": {},
   "outputs": [],
   "source": [
    "f = open(\"cafes.geojason\", \"w\")\n",
    "f.write('{\\n')\n",
    "f.write('\"type\": \"FeatureCollection\", \\n')\n",
    "f.write('\"features\": [\\n')\n",
    "f.write(',\\n'.join(lines))\n",
    "f.write('\\n]}')\n",
    "f.close()"
   ]
  },
  {
   "cell_type": "code",
   "execution_count": null,
   "metadata": {},
   "outputs": [],
   "source": []
  }
 ],
 "metadata": {
  "kernelspec": {
   "display_name": "Python 3",
   "language": "python",
   "name": "python3"
  },
  "language_info": {
   "codemirror_mode": {
    "name": "ipython",
    "version": 3
   },
   "file_extension": ".py",
   "mimetype": "text/x-python",
   "name": "python",
   "nbconvert_exporter": "python",
   "pygments_lexer": "ipython3",
   "version": "3.7.4"
  }
 },
 "nbformat": 4,
 "nbformat_minor": 2
}
