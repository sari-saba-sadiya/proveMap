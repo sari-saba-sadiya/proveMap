{
 "cells": [
  {
   "cell_type": "code",
   "execution_count": 62,
   "metadata": {},
   "outputs": [],
   "source": [
    "import scipy\n",
    "import csv\n",
    "import pandas as pd\n",
    "import math\n",
    "import glob\n",
    "import re\n",
    "import json"
   ]
  },
  {
   "cell_type": "code",
   "execution_count": 63,
   "metadata": {},
   "outputs": [],
   "source": [
    "# Provenance from the getty dataset\n",
    "# http://www.getty.edu/art/collection/objects/...."
   ]
  },
  {
   "cell_type": "code",
   "execution_count": 3,
   "metadata": {},
   "outputs": [
    {
     "name": "stdout",
     "output_type": "stream",
     "text": [
      "../provenance/83-GA-192.csv\n",
      "../provenance/82-GA-80.csv\n"
     ]
    }
   ],
   "source": [
    "for provfile in glob.glob('../provenance/*-GA-*.csv'):\n",
    "    print(provfile)\n",
    "    df = pd.read_csv(provfile)\n",
    "    if re.split('/|\\.',provfile)[-2] == 'origin':\n",
    "        continue\n",
    "    properties = []\n",
    "    geometry = []\n",
    "    for index, row in df.iterrows():\n",
    "        prop = []\n",
    "        prop.append('\"index\": \"'+str(row['index'])+'\"')\n",
    "        prop.append('\"year\": \"'+str(row['year'])+'\"')\n",
    "        prop.append('\"yearStr\": \"'+str(row['yearStr'])+'\"')\n",
    "        prop.append('\"buyer\": \"'+row['buyer']+'\"')\n",
    "        prop.append('\"address\": \"'+row['address']+'\"')\n",
    "        properties.append(','.join(prop))\n",
    "        geom = []\n",
    "        geom.append('\"type\": \"Point\"')\n",
    "        geom.append('\"coordinates\": ['+str(row['E']) +', '+str(row['N'])+']')\n",
    "        geometry.append(','.join(geom))\n",
    "    lines = []\n",
    "    for ii,(prop,geom) in enumerate(zip(properties,geometry)):\n",
    "        line = '{\"type\": \"Feature\", \"id\": '+str(ii)+', \"properties\": {'+prop+'}, \"geometry\": { '+geom+' } }'\n",
    "        lines.append(line)\n",
    "    f = open('../provenance/'+re.split('/|\\.',provfile)[-2]+'.geojson', \"w\")\n",
    "    f.write('{\\n')\n",
    "    f.write('\"type\": \"FeatureCollection\", \\n')\n",
    "    f.write('\"features\": [\\n')\n",
    "    f.write(',\\n'.join(lines))\n",
    "    f.write('\\n]}')\n",
    "    f.close()"
   ]
  },
  {
   "cell_type": "code",
   "execution_count": 70,
   "metadata": {},
   "outputs": [],
   "source": [
    "def csv2geo(prov_num):\n",
    "    provfile = '../provenance/'+prov_num+'.csv'\n",
    "    print(provfile)\n",
    "    df = pd.read_csv(provfile)\n",
    "    if re.split('/|\\.',provfile)[-2] == 'origin':\n",
    "        return\n",
    "    properties = []\n",
    "    geometry = []\n",
    "    first_coo = ''\n",
    "    for index, row in df.iterrows():\n",
    "        prop = []\n",
    "        prop.append('\"index\": \"'+str(row['index'])+'\"')\n",
    "        prop.append('\"year\": \"'+str(row['year'])+'\"')\n",
    "        prop.append('\"yearStr\": \"'+str(row['yearStr'])+'\"')\n",
    "        prop.append('\"buyer\": \"'+row['buyer']+'\"')\n",
    "        prop.append('\"address\": \"'+row['address']+'\"')\n",
    "        properties.append(','.join(prop))\n",
    "        geom = []\n",
    "        geom.append('\"type\": \"Point\"')\n",
    "        geom.append('\"coordinates\": ['+str(row['E']) +', '+str(row['N'])+']')\n",
    "        if first_coo == '':\n",
    "            first_coo = '\"coordinates\": ['+str(row['E']) +', '+str(row['N'])+']'\n",
    "        geometry.append(','.join(geom))\n",
    "    lines = []\n",
    "    for ii,(prop,geom) in enumerate(zip(properties,geometry)):\n",
    "        line = '{\"type\": \"Feature\", \"id\": '+str(ii)+', \"properties\": {'+prop+'}, \"geometry\": { '+geom+' } }'\n",
    "        lines.append(line)\n",
    "    f = open('../provenance/'+re.split('/|\\.',provfile)[-2]+'.geojson', \"w\")\n",
    "    f.write('{\\n')\n",
    "    f.write('\"type\": \"FeatureCollection\", \\n')\n",
    "    f.write('\"features\": [\\n')\n",
    "    f.write(',\\n'.join(lines))\n",
    "    f.write('\\n]}')\n",
    "    f.close()\n",
    "    return first_coo"
   ]
  },
  {
   "cell_type": "code",
   "execution_count": 82,
   "metadata": {},
   "outputs": [
    {
     "name": "stdout",
     "output_type": "stream",
     "text": [
      "../provenance/83-GA-264.csv\n"
     ]
    }
   ],
   "source": [
    "gettyid = '83-GA-264'\n",
    "first_coo = csv2geo(gettyid)"
   ]
  },
  {
   "cell_type": "code",
   "execution_count": 83,
   "metadata": {},
   "outputs": [],
   "source": [
    "metafile = '../metadata/'+gettyid+'.json'\n",
    "with open(metafile, 'r') as myfile:\n",
    "    data=myfile.read()\n",
    "dat = json.loads(data)"
   ]
  },
  {
   "cell_type": "code",
   "execution_count": null,
   "metadata": {},
   "outputs": [],
   "source": []
  },
  {
   "cell_type": "code",
   "execution_count": 84,
   "metadata": {},
   "outputs": [],
   "source": [
    "originstr = ''\n",
    "originstr += '{\"type\": \"Feature\", \"id\": 4, \"properties\": {'\n",
    "originstr += '\"index\": \"'+gettyid\n",
    "originstr += '\", \"name\": \"'+dat['name']+'\", \"by\": \"'+dat['by']\n",
    "originstr += '\", \"image_url\": \"'+dat['image_url']\n",
    "originstr += '\", \"yearmade\": \"'+dat['yearmade']\n",
    "originstr += '\", \"tags\": ['+','.join(['\"'+e+'\"' for e in dat['tags']])+']'\n",
    "originstr += ',\"markercolor\": \"008b3e\"}, \"geometry\": { \"type\": \"Point\", '+ first_coo\n",
    "#[-3.435973, 55.378051]\n",
    "originstr += ' } }'"
   ]
  },
  {
   "cell_type": "code",
   "execution_count": 85,
   "metadata": {},
   "outputs": [
    {
     "data": {
      "text/plain": [
       "'{\"type\": \"Feature\", \"id\": 4, \"properties\": {\"index\": \"83-GA-264\", \"name\": \"Two Studies of the Head of an Old Man\", \"by\": \"Rembrandt Harmensz. van Rijn (Dutch, 1606 - 1669)\", \"image_url\": \"http://media.getty.edu/museum/images/web/thumbnail/00003301.jpg\", \"yearmade\": \"1626\", \"tags\": [\"Dutch\",\"Drawing\",\"Getty Museum\"],\"markercolor\": \"008b3e\"}, \"geometry\": { \"type\": \"Point\", \"coordinates\": [4.9041389, 52.3675734] } }'"
      ]
     },
     "execution_count": 85,
     "metadata": {},
     "output_type": "execute_result"
    }
   ],
   "source": [
    "originstr"
   ]
  },
  {
   "cell_type": "code",
   "execution_count": 86,
   "metadata": {},
   "outputs": [
    {
     "ename": "SyntaxError",
     "evalue": "invalid syntax (<ipython-input-86-f572e0206fc5>, line 1)",
     "output_type": "error",
     "traceback": [
      "\u001b[0;36m  File \u001b[0;32m\"<ipython-input-86-f572e0206fc5>\"\u001b[0;36m, line \u001b[0;32m1\u001b[0m\n\u001b[0;31m    Figures in a Landscape before a Harbor\", \"by\": \"Claude Lorrain (Claude Gell\\u00e9e) (French, 1604/1605? - 1682)\", \"image_url\": \"http://media.getty.edu/museum/images/web/thumbnail/00000301.jpg\", \"yearmade\": \"1638\", \"tags\": [\"French\", \"Drawing\", \"Getty Museum\"],\"markercolor\": \"008b3e\"\u001b[0m\n\u001b[0m                         ^\u001b[0m\n\u001b[0;31mSyntaxError\u001b[0m\u001b[0;31m:\u001b[0m invalid syntax\n"
     ]
    }
   ],
   "source": [
    "Figures in a Landscape before a Harbor\", \"by\": \"Claude Lorrain (Claude Gell\\u00e9e) (French, 1604/1605? - 1682)\", \"image_url\": \"http://media.getty.edu/museum/images/web/thumbnail/00000301.jpg\", \"yearmade\": \"1638\", \"tags\": [\"French\", \"Drawing\", \"Getty Museum\"],\"markercolor\": \"008b3e\""
   ]
  },
  {
   "cell_type": "code",
   "execution_count": 36,
   "metadata": {},
   "outputs": [],
   "source": [
    "provfile = '../provenance/origin.csv'\n",
    "df = pd.read_csv(provfile)\n",
    "properties = []\n",
    "geometry = []\n",
    "for index, row in df.iterrows():\n",
    "    prop = []\n",
    "    prop.append('\"index\": \"'+str(row['index'])+'\"')\n",
    "    prop.append('\"year\": \"'+str(row['year'])+'\"')\n",
    "    prop.append('\"buyer\": \"'+row['buyer']+'\"')\n",
    "    prop.append('\"address\": \"'+row['address']+'\"')\n",
    "    prop.append('\"marker-color\": \"'+hex((row['index'] % 16777215))+'\"')\n",
    "    properties.append(','.join(prop))\n",
    "    geom = []\n",
    "    geom.append('\"type\": \"Point\"')\n",
    "    geom.append('\"coordinates\": ['+str(row['E']) +', '+str(row['N'])+']')\n",
    "    geometry.append(','.join(geom))\n",
    "lines = []\n",
    "for ii,(prop,geom) in enumerate(zip(properties,geometry)):\n",
    "    line = '{\"type\": \"Feature\", \"id\": '+str(ii)+', \"properties\": {'+prop+'}, \"geometry\": { '+geom+' } }'\n",
    "    lines.append(line)\n",
    "f = open('../provenance/'+re.split('/|\\.',provfile)[-2]+'.geojason', \"w\")\n",
    "f.write('{\\n')\n",
    "f.write('\"type\": \"FeatureCollection\", \\n')\n",
    "f.write('\"features\": [\\n')\n",
    "f.write(',\\n'.join(lines))\n",
    "f.write('\\n]}')\n",
    "f.close()"
   ]
  },
  {
   "cell_type": "code",
   "execution_count": 169,
   "metadata": {},
   "outputs": [],
   "source": [
    "df = pd.read_csv('cafesList.csv')"
   ]
  },
  {
   "cell_type": "code",
   "execution_count": 176,
   "metadata": {},
   "outputs": [],
   "source": [
    "properties = []\n",
    "geometry = []"
   ]
  },
  {
   "cell_type": "code",
   "execution_count": 177,
   "metadata": {},
   "outputs": [],
   "source": [
    "# For categories, and type\n",
    "catDir  = {1:'Radical', 2:'Moderate', 3:'Apolitical'}\n",
    "typeDir = {'p':'Alch', 'c':'Cfe', 'b':'Brthl', 'i':'Htl'}"
   ]
  },
  {
   "cell_type": "code",
   "execution_count": 178,
   "metadata": {},
   "outputs": [],
   "source": [
    "for index, row in df.iterrows():\n",
    "    prop = []\n",
    "    prop.append('\"index\": \"'+row['index']+'\"')\n",
    "    prop.append('\"year\": \"'+row['year']+'\"')\n",
    "    prop.append('\"buyer\": \"'+catDir[row['buyer']]+'\"')\n",
    "    prop.append('\"address\": \"'+row['address']+'\"')\n",
    "    prop.append('\"marker-color\": \"'+hex((519903 % 16777215))+'\"')\n",
    "    properties.append(','.join(prop))\n",
    "    geom = []\n",
    "    geom.append('\"type\": \"Point\"')\n",
    "    geom.append('\"coordinates\": ['+str(row['E']) +', '+str(row['N'])+']')\n",
    "    geometry.append(','.join(geom))"
   ]
  },
  {
   "cell_type": "code",
   "execution_count": 7,
   "metadata": {},
   "outputs": [
    {
     "data": {
      "text/plain": [
       "'0016d4'"
      ]
     },
     "execution_count": 7,
     "metadata": {},
     "output_type": "execute_result"
    }
   ],
   "source": [
    "hex((5844 % 16777215))[2:].zfill(6)"
   ]
  },
  {
   "cell_type": "code",
   "execution_count": 3,
   "metadata": {},
   "outputs": [
    {
     "data": {
      "text/plain": [
       "'0x7eedf'"
      ]
     },
     "execution_count": 3,
     "metadata": {},
     "output_type": "execute_result"
    }
   ],
   "source": [
    "hex(519903)"
   ]
  },
  {
   "cell_type": "code",
   "execution_count": 10,
   "metadata": {},
   "outputs": [
    {
     "data": {
      "text/plain": [
       "21"
      ]
     },
     "execution_count": 10,
     "metadata": {},
     "output_type": "execute_result"
    }
   ],
   "source": [
    "519903 % 33"
   ]
  },
  {
   "cell_type": "code",
   "execution_count": 179,
   "metadata": {},
   "outputs": [],
   "source": [
    "lines = []\n",
    "for ii,(prop,geom) in enumerate(zip(properties,geometry)):\n",
    "    line = '{\"type\": \"Feature\", \"id\": '+str(ii)+', \"properties\": {'+prop+'}, \"geometry\": { '+geom+' } }'\n",
    "    lines.append(line)"
   ]
  },
  {
   "cell_type": "code",
   "execution_count": 180,
   "metadata": {},
   "outputs": [
    {
     "data": {
      "text/plain": [
       "'{\"type\": \"Feature\", \"id\": 1, \"properties\": {\"NAME\": \"George Café\",\"OWNER\": \"Fadel Jamel Kaour\",\"POL\": \"Radical\",\"ADDRESS1\": \"1 Allenby\",\"ADDRESS2\": \"1 Allenby\",\"IMG\": \"img/1_Allenby.png\",\"COMMENT\": \"Owner was police officer in Haifa until 1938, and was removed from the police when it was found that he had a relationship with the gangs. To this day, he still uses his relationships to buy weapons, so he went to work as an employee in the `Steel` company, in order to have a relationship with a group of drivers suitable for him and to implement what was required of him.\",\"ICON\": \"icons/Radical_Alch_trnspnt.png\"}, \"geometry\": { \"type\": \"Point\",\"coordinates\": [34.9728677, 32.828341200000004] } }'"
      ]
     },
     "execution_count": 180,
     "metadata": {},
     "output_type": "execute_result"
    }
   ],
   "source": [
    "lines[1]"
   ]
  },
  {
   "cell_type": "code",
   "execution_count": 181,
   "metadata": {},
   "outputs": [],
   "source": [
    "f = open(\"cafes.geojason\", \"w\")\n",
    "f.write('{\\n')\n",
    "f.write('\"type\": \"FeatureCollection\", \\n')\n",
    "f.write('\"features\": [\\n')\n",
    "f.write(',\\n'.join(lines))\n",
    "f.write('\\n]}')\n",
    "f.close()"
   ]
  },
  {
   "cell_type": "code",
   "execution_count": null,
   "metadata": {},
   "outputs": [],
   "source": []
  }
 ],
 "metadata": {
  "kernelspec": {
   "display_name": "Python 3",
   "language": "python",
   "name": "python3"
  },
  "language_info": {
   "codemirror_mode": {
    "name": "ipython",
    "version": 3
   },
   "file_extension": ".py",
   "mimetype": "text/x-python",
   "name": "python",
   "nbconvert_exporter": "python",
   "pygments_lexer": "ipython3",
   "version": "3.7.4"
  }
 },
 "nbformat": 4,
 "nbformat_minor": 2
}
