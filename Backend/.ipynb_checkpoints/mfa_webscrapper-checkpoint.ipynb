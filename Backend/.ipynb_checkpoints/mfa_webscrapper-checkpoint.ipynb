{
 "cells": [
  {
   "cell_type": "code",
   "execution_count": 143,
   "metadata": {},
   "outputs": [],
   "source": [
    "from bs4 import BeautifulSoup\n",
    "import requests\n",
    "import re\n",
    "import googlemaps\n",
    "import csv\n",
    "import json"
   ]
  },
  {
   "cell_type": "code",
   "execution_count": 163,
   "metadata": {},
   "outputs": [],
   "source": [
    "gmaps = googlemaps.Client(key=gmapKey)"
   ]
  },
  {
   "cell_type": "code",
   "execution_count": 294,
   "metadata": {},
   "outputs": [],
   "source": [
    "mfaId = '519903'\n",
    "itemId = 'mfa_'+mfaId\n",
    "tags = ['african-descent']"
   ]
  },
  {
   "cell_type": "code",
   "execution_count": 295,
   "metadata": {},
   "outputs": [
    {
     "name": "stdout",
     "output_type": "stream",
     "text": [
      "<Response [200]>\n"
     ]
    }
   ],
   "source": [
    "website = requests.get('https://collections.mfa.org/objects/'+mfaId)\n",
    "print(website)"
   ]
  },
  {
   "cell_type": "code",
   "execution_count": 296,
   "metadata": {},
   "outputs": [],
   "source": [
    "soup = BeautifulSoup(website.content, 'html.parser')"
   ]
  },
  {
   "cell_type": "code",
   "execution_count": 297,
   "metadata": {},
   "outputs": [
    {
     "name": "stdout",
     "output_type": "stream",
     "text": [
      "<!DOCTYPE html>\n",
      "<html data-locale=\"en\" lang=\"en\" xmlns=\"http://www.w3.org/1999/xhtml\">\n",
      " <head>\n",
      "  <meta content=\"Apache Tapestry Framework (version 5.4.3)\" name=\"generator\"/>\n",
      "  <meta charset=\"utf-8\"/>\n",
      "  <meta content=\"IE=edge\" http-equiv=\"X-UA-Compatible\"/>\n",
      "  <meta content=\"width=device-width, initial-scale=1, maximum-scale=5\" name=\"viewport\"/>\n",
      "  <!-- Google Tag Manager -->\n",
      "  <script>\n",
      "   (function(w,d,s,l,i){w[l]=w[l]||[];w[l].push({'gtm.start':\n",
      "new Date().getTime(),event:'gtm.js'});var f=d.getElementsByTagName(s)[0],\n",
      "j=d.createElement(s),dl=l!='dataLayer'?'&amp;l='+l:'';j.async=true;j.src=\n",
      "'https://www.googletagmanager.com/gtm.js?id='+i+dl;f.parentNode.insertBefore(j,f);\n",
      "})(window,document,'script','dataLayer','GTM-GWJF');\n",
      "  </script>\n",
      "  <!-- End Google Tag Manager -->\n",
      "  <title>\n",
      "   Vase – Works – Museum of Fine Arts, Boston\n",
      "  </title>\n",
      "  <link href=\"/assets/meta/zf584fe3/css/bootstrap.min.css\" media=\"screen\" rel=\"stylesheet\" type=\"text/css\"/>\n",
      "  <!-- Favicon for Internal Skin -->\n",
      "  <link href=\"/assets/meta/16cf4acc/images/apple-icon-57x57.png\" rel=\"apple-touch-icon\" sizes=\"57x57\"/>\n",
      "  <link href=\"/assets/meta/6c7ea896/images/apple-icon-60x60.png\" rel=\"apple-touch-icon\" sizes=\"60x60\"/>\n",
      "  <link href=\"/assets/meta/b46ef0b7/images/apple-icon-72x72.png\" rel=\"apple-touch-icon\" sizes=\"72x72\"/>\n",
      "  <link href=\"/assets/meta/8fad805e/images/apple-icon-76x76.png\" rel=\"apple-touch-icon\" sizes=\"76x76\"/>\n",
      "  <link href=\"/assets/meta/cbc80c5e/images/apple-icon-114x114.png\" rel=\"apple-touch-icon\" sizes=\"114x114\"/>\n",
      "  <link href=\"/assets/meta/b26cdab7/images/apple-icon-120x120.png\" rel=\"apple-touch-icon\" sizes=\"120x120\"/>\n",
      "  <link href=\"/assets/meta/323ad633/images/apple-icon-144x144.png\" rel=\"apple-touch-icon\" sizes=\"144x144\"/>\n",
      "  <link href=\"/assets/meta/f57b2b30/images/apple-icon-152x152.png\" rel=\"apple-touch-icon\" sizes=\"152x152\"/>\n",
      "  <link href=\"/assets/meta/e5652064/images/apple-icon-180x180.png\" rel=\"apple-touch-icon\" sizes=\"180x180\"/>\n",
      "  <!--\n",
      "    <link rel=\"icon\" type=\"image/png\" sizes=\"192x192\"  href=\"${asset:images/android-icon-192x192.png}\"/>\n",
      "    <link rel=\"icon\" type=\"image/png\" sizes=\"32x32\" href=\"${asset:images/favicon-32x32.png}\"/>\n",
      "    <link rel=\"icon\" type=\"image/png\" sizes=\"96x96\" href=\"${asset:images/favicon-96x96.png}\"/>\n",
      "    <link rel=\"icon\" type=\"image/png\" sizes=\"16x16\" href=\"${asset:images/favicon-16x16.png}\"/>\n",
      "\t-->\n",
      "  <link href=\"/manifest;jsessionid=73F0464CCB2A935E81FCED02911DAC67\" rel=\"manifest\"/>\n",
      "  <link href=\"/assets/meta/41dad92d/images/favicon.ico\" rel=\"shortcut icon\"/>\n",
      "  <link href=\"/assets/meta/8eefcbaa/images/favicon2x.ico\" rel=\"shortcut icon\"/>\n",
      "  <meta content=\"#ffffff\" name=\"msapplication-TileColor\"/>\n",
      "  <meta content=\"/assets/meta/323ad633/images/ms-icon-144x144.png\" name=\"msapplication-TileImage\"/>\n",
      "  <meta content=\"/assets/meta/z68a65354/images/browserconfig.xml\" name=\"msapplication-config\"/>\n",
      "  <meta content=\"#ffffff\" name=\"theme-color\"/>\n",
      "  <link href=\"/assets/meta/zf42da959/font-awesome/css/font-awesome.min.css\" media=\"screen\" rel=\"stylesheet\" type=\"text/css\"/>\n",
      "  <link href=\"/assets/meta/z9463a8a8/css/core/emuseum-core.css\" media=\"screen\" rel=\"stylesheet\" type=\"text/css\"/>\n",
      "  <link href=\"/assets/meta/ze6580078/css/emuseum.css\" media=\"screen\" rel=\"stylesheet\" type=\"text/css\"/>\n",
      "  <link href=\"/assets/meta/zfd8dde5c/css/custom.css\" media=\"screen\" rel=\"stylesheet\" type=\"text/css\"/>\n",
      "  <link href=\"/assets/meta/za2d23326/css/print.css\" rel=\"stylesheet\" type=\"text/css\"/>\n",
      "  <meta content=\"emuseum\" name=\"keywords\"/>\n",
      "  <meta content=\"width=device-width, initial-scale=1\" name=\"viewport\"/>\n",
      "  <meta content=\"Vase\" name=\"og:title\"/>\n",
      "  <meta content=\"Blue with spots\" name=\"og:description\"/>\n",
      "  <meta content=\"Blue with spots\" name=\"description\"/>\n",
      "  <meta content=\"https://collections.mfa.org/objects/519903/vase;jsessionid=73F0464CCB2A935E81FCED02911DAC67\" name=\"og:url\"/>\n",
      "  <meta content=\"https://collections.mfa.org/internal/media/dispatcher/1440618/resize%3Aformat%3Dfull;jsessionid=73F0464CCB2A935E81FCED02911DAC67\" name=\"og:image\"/>\n",
      "  <link href=\"https://collections.mfa.org/objects/detailsrdf/519903;jsessionid=73F0464CCB2A935E81FCED02911DAC67\" rel=\"meta\" type=\"application/rdf+xml\"/>\n",
      "  <link href=\"https://collections.mfa.org/objects/detailsxml/519903;jsessionid=73F0464CCB2A935E81FCED02911DAC67\" rel=\"meta\" type=\"application/xml\"/>\n",
      "  <link href=\"https://collections.mfa.org/objects/detailsjson/519903;jsessionid=73F0464CCB2A935E81FCED02911DAC67\" rel=\"meta\" type=\"application/json\"/>\n",
      "  <link href=\"/assets/meta/za5639df9/tapestry5/tapestry.css\" rel=\"stylesheet\" type=\"text/css\"/>\n",
      "  <link href=\"/assets/meta/ze8a5779c/tapestry5/exception-frame.css\" rel=\"stylesheet\" type=\"text/css\"/>\n",
      "  <link href=\"/assets/meta/zceffa0e4/tapestry5/tapestry-console.css\" rel=\"stylesheet\" type=\"text/css\"/>\n",
      "  <link href=\"/assets/meta/z7cd0b108/tapestry5/tree.css\" rel=\"stylesheet\" type=\"text/css\"/>\n",
      "  <link href=\"/assets/meta/z292040b7/jquery/colorbox/example2/colorbox.css\" rel=\"stylesheet\" type=\"text/css\"/>\n",
      "  <!--[if IE 9]><style type=\"text/css\">.pageloading-mask{opacity:0.25;}</style><![endif]-->\n",
      "  <!--[if lt IE 9]><style type=\"text/css\">.pageloading-mask{filter:alpha(opacity=25);}</style><![endif]-->\n",
      " </head>\n",
      " <body class=\"emuseum non-authenticated details-page\" data-page-initialized=\"false\">\n",
      "  <!-- Google Tag Manager (noscript) -->\n",
      "  <noscript>\n",
      "   <iframe height=\"0\" src=\"https://www.googletagmanager.com/ns.html?id=GTM-GWJF\" style=\"display:none;visibility:hidden\" width=\"0\">\n",
      "   </iframe>\n",
      "  </noscript>\n",
      "  <!-- End Google Tag Manager (noscript) -->\n",
      "  <section id=\"main-wrap\">\n",
      "   <header id=\"emuseum-header\">\n",
      "    <span class=\"emuseum-menutoggle\">\n",
      "     <i class=\"fa fa-bars\">\n",
      "     </i>\n",
      "    </span>\n",
      "    <span class=\"emuseum-searchtoggle\">\n",
      "     <i class=\"fa fa-search\">\n",
      "     </i>\n",
      "    </span>\n",
      "    <div id=\"emuseum-logo\">\n",
      "     <a href=\"https://www.mfa.org/\">\n",
      "      <img alt=\"Logo\" src=\"/internal/media/logodispatcher/Museum%20of%20Fine%20Arts_FullName.png;jsessionid=73F0464CCB2A935E81FCED02911DAC67\"/>\n",
      "     </a>\n",
      "    </div>\n",
      "    <div id=\"emuseum-quicksearch-wrap\">\n",
      "     <div id=\"emuseum-quicksearch\">\n",
      "      <form accept-charset=\"UTF-8\" action=\"/objects/details.layout.quicksearchform.searchform;jsessionid=73F0464CCB2A935E81FCED02911DAC67\" id=\"searchForm\" method=\"post\">\n",
      "       <input name=\"t:ac\" type=\"hidden\" value=\"519903/vase\"/>\n",
      "       <input name=\"t:formdata\" type=\"hidden\" value=\"AcRRoBYlnxeFSl2+QDrRvLWunOc=:H4sIAAAAAAAAAJ2QsUrEQBCGx4BwkE6wsNfSzSGm0cZDEYQgQrCWzWYut+dmd2934t01Vr6EjU8gVucTXGHnO/gANhZWFiaxCQiidjM/w3wf//0rrE5j2DHZGAX56AiJS+X3FJ+bitikkuLSI3diNDSu7O7gHcTGFYxbLkbIiFv05OYxE8ahkhnLuEc2yOqQCzqWqPLNFKmyW+fL8GX96SOAlQRCYTQ5o055iQRryZhf8UhxXUQpOamL/ZklCDvc/9sO/mp75oxA79MqK6X30ujlQ747fL97DgBmdtqH7V+K+OYDNQ4HPzoIU1qjUZNnLZS+K9ymbxuPi5vDAIIEekLJ+vokn8B1WyYqLOugKbONmvJ6X/SLfmf8BJ/V8OL3AQAA\"/>\n",
      "       <input aria-label=\"Keyword Search\" class=\"form-control\" id=\"quicksearch\" name=\"quicksearch\" placeholder=\"Search the collections\" type=\"text\"/>\n",
      "       <input class=\"butgo\" data-submit-mode=\"normal\" id=\"submit_0\" name=\"submit_0\" type=\"submit\" value=\"►\"/>\n",
      "       <i class=\"fa fa-search\">\n",
      "       </i>\n",
      "      </form>\n",
      "     </div>\n",
      "    </div>\n",
      "    <a href=\"/advancedsearch;jsessionid=73F0464CCB2A935E81FCED02911DAC67\" id=\"advancedsearch-link\">\n",
      "     Advanced Search\n",
      "    </a>\n",
      "   </header>\n",
      "   <!-- The content header shows unless set to \"false\" in page template. -->\n",
      "   <div id=\"content-wrap\">\n",
      "    <div id=\"content\">\n",
      "     <div id=\"content-inner\">\n",
      "      <div class=\"container-fluid\">\n",
      "       <a class=\"emuseum-button\" href=\"/advancedsearch;jsessionid=73F0464CCB2A935E81FCED02911DAC67\" id=\"mobileAsLink\">\n",
      "        Advanced Search\n",
      "        <i class=\"fa fa-angle-right\">\n",
      "        </i>\n",
      "       </a>\n",
      "       <!--  \n",
      "                        <t:if test=\"eognl:1==1\">\n",
      "                        \t<div class=\"row\">\n",
      "                        \t\t<div class=\"col-lg-12\">\n",
      "                        \t\t\t<h2>${pageClass}</h2>  \n",
      "                        \t\t</div>\n",
      "                        \t</div>\n",
      "                        </t:if>\n",
      "                        -->\n",
      "       <!--  \n",
      "    <body id=\"appDetailView\">\n",
      "    -->\n",
      "       <div class=\"emuseum-detail-item row no-result-context\">\n",
      "        <div class=\"emuseum-detail-inner\" id=\"detailView\" itemscope=\"\" itemtype=\"//schema.org/VisualArtwork\" typeof=\"schema:VisualArtwork\">\n",
      "         <div class=\"col-lg-12 col-md-12 col-sm-12 detail-item-img\">\n",
      "          <div class=\"\" data-container-type=\"zone\" id=\"mediaZone\">\n",
      "           <div class=\"download-image\">\n",
      "            <img alt=\"Vase\" class=\"disable-click\" itemprop=\"image\" property=\"image\" src=\"/internal/media/dispatcher/1440618/preview;jsessionid=73F0464CCB2A935E81FCED02911DAC67\" title=\"Vase\"/>\n",
      "           </div>\n",
      "           <!-- Default (format unspecific) block when media not available -->\n",
      "           <!-- Access is restricted -->\n",
      "           <!-- UNKNOWN mimetype -->\n",
      "           <!-- IMAGE blocks -->\n",
      "           <!-- AUDIO blocks -->\n",
      "           <!-- VIDEO blocks -->\n",
      "           <!-- ZOOMIFY block -->\n",
      "           <!-- PDF files -->\n",
      "           <!-- Media info -->\n",
      "          </div>\n",
      "         </div>\n",
      "         <div class=\"col-lg-12 col-md-12 col-sm-12\">\n",
      "          <div class=\"detail-item-media-rights clearfix\">\n",
      "           <div class=\"col-lg-6\">\n",
      "            <p>\n",
      "             Thumbnail-size images of copyrighted artworks are displayed under fair use, in accordance with guidelines recommended by the Code of Best Practices in Fair Use for the Visual Arts, published by the College Art Association in February 2015.\n",
      "            </p>\n",
      "           </div>\n",
      "           <div class=\"col-lg-3\">\n",
      "            <a href=\"https://www.mfa.org/collections/mfa-images/licensing/reproduction-request-form?title=Vase&amp;accession=2014.1334\" target=\"_blank\">\n",
      "             LICENSE IMAGE\n",
      "            </a>\n",
      "           </div>\n",
      "           <div class=\"col-lg-3\">\n",
      "            <div class=\"a2a_kit a2a_kit_size_32 a2a_default_style st_detail\" data-a2a-title=\"Vase\" data-a2a-url=\"https://collections.mfa.org/objects/519903/vase;jsessionid=73F0464CCB2A935E81FCED02911DAC67\">\n",
      "             <a class=\"a2a_dd\" href=\"https://www.addtoany.com/share\" rel=\"noopener noreferrer\">\n",
      "              SHARE\n",
      "             </a>\n",
      "            </div>\n",
      "           </div>\n",
      "          </div>\n",
      "         </div>\n",
      "         <div class=\"col-lg-12 col-md-12 col-sm-12 detail-item-details\">\n",
      "          <div class=\"item-details-inner\">\n",
      "           <!-- LEFT COLUMN -->\n",
      "           <div class=\"col-lg-6\">\n",
      "            <div class=\"detailField titleField\">\n",
      "             <h2>\n",
      "              Vase\n",
      "             </h2>\n",
      "            </div>\n",
      "            <div class=\"detailField peopleField\">\n",
      "             <a href=\"/advancedsearch/Objects/peopleSearch%3AHerbert%20H.%20Sanders;jsessionid=73F0464CCB2A935E81FCED02911DAC67\">\n",
      "              Herbert H. Sanders\n",
      "             </a>\n",
      "             (American, 1909–1988)\n",
      "            </div>\n",
      "            <div class=\"detailField displayDateField\">\n",
      "             1936\n",
      "            </div>\n",
      "            <div class=\"detailField objectGeographyField\">\n",
      "             Object Place: Columbus, Ohio\n",
      "             <br/>\n",
      "             <hr class=\"detailLine\"/>\n",
      "            </div>\n",
      "            <div class=\"detailField mediumField\">\n",
      "             <span class=\"detailFieldLabel topLabel\">\n",
      "              Medium/Technique\n",
      "             </span>\n",
      "             <span class=\"detailFieldValue\">\n",
      "              Wheel-thrown earthenware with matte glaze\n",
      "              <br/>\n",
      "             </span>\n",
      "            </div>\n",
      "            <div class=\"detailField dimensionsField != null\">\n",
      "             <span class=\"detailFieldLabel topLabel\">\n",
      "              Dimensions\n",
      "             </span>\n",
      "             <span class=\"detailFieldValue\">\n",
      "              Overall: 22.2 x 21 cm (8 3/4 x 8 1/4 in.)\n",
      "              <br/>\n",
      "             </span>\n",
      "            </div>\n",
      "            <div class=\"detailField creditlineField != null\">\n",
      "             <span class=\"detailFieldLabel topLabel\">\n",
      "              Credit Line\n",
      "             </span>\n",
      "             <span class=\"detailFieldValue\">\n",
      "              The John Axelrod Collection\n",
      "              <br/>\n",
      "             </span>\n",
      "            </div>\n",
      "            <div class=\"detailField invnolineField\">\n",
      "             <span class=\"detailFieldLabel topLabel\">\n",
      "              Accession Number\n",
      "             </span>\n",
      "             <span class=\"detailFieldValue\">\n",
      "              2014.1334\n",
      "             </span>\n",
      "            </div>\n",
      "            <div class=\"detailField onviewField\">\n",
      "             <span class=\"detailFieldLabel\">\n",
      "              NOT ON VIEW\n",
      "             </span>\n",
      "            </div>\n",
      "            <div class=\"detailField collectionTermsField\">\n",
      "             <span class=\"detailFieldLabel topLabel\">\n",
      "              Collections\n",
      "             </span>\n",
      "             <span class=\"detailFieldValue\">\n",
      "              <a href=\"/advancedsearch/Objects/collectionTerms%3AAmericas;jsessionid=73F0464CCB2A935E81FCED02911DAC67\">\n",
      "               Americas\n",
      "              </a>\n",
      "             </span>\n",
      "            </div>\n",
      "            <div class=\"detailField classificationsField\">\n",
      "             <span class=\"detailFieldLabel topLabel\">\n",
      "              Classifications\n",
      "             </span>\n",
      "             <span class=\"detailFieldValue\">\n",
      "              <a href=\"/advancedsearch/Objects/classifications%3ACeramics;jsessionid=73F0464CCB2A935E81FCED02911DAC67\">\n",
      "               Ceramics\n",
      "              </a>\n",
      "              <br/>\n",
      "             </span>\n",
      "            </div>\n",
      "           </div>\n",
      "           <!-- RIGHT COLUMN -->\n",
      "           <div class=\"col-lg-6\">\n",
      "            <div class=\"detailField webDescriptionField\">\n",
      "             <hr class=\"detailLine\"/>\n",
      "            </div>\n",
      "            <div class=\"detailField descriptionField\">\n",
      "             <span class=\"detailFieldLabel topLabel\">\n",
      "              Description\n",
      "             </span>\n",
      "             <span class=\"detailFieldValue\">\n",
      "              Blue with spots\n",
      "              <br/>\n",
      "             </span>\n",
      "            </div>\n",
      "            <div class=\"detailField inscribedField\">\n",
      "             <span class=\"detailFieldLabel topLabel\">\n",
      "              Inscriptions\n",
      "             </span>\n",
      "             <span class=\"detailFieldValue\">\n",
      "              Signed \"H.H. Sanders / 1936\"\n",
      "              <br/>\n",
      "             </span>\n",
      "            </div>\n",
      "            <div class=\"detailField provenanceField\">\n",
      "             <span class=\"detailFieldLabel topLabel\">\n",
      "              Provenance\n",
      "             </span>\n",
      "             <span class=\"detailFieldValue\">\n",
      "              By 1990, owned by American Decorative Arts (gallery), Northampton, Massachusetts; January 24, 1990, sold by Chris Kennedy of American Decorative Arts to John Axelrod, Boston, Massachusetts; 2008, promised gift of John Axelrod to the Museum; 2014, gift of Axelrod to the MFA. (Accession date: October 29, 2014)\n",
      "              <br/>\n",
      "             </span>\n",
      "            </div>\n",
      "            <div class=\"detailField objectGeographyField\">\n",
      "             <hr class=\"detailLine\"/>\n",
      "            </div>\n",
      "           </div>\n",
      "          </div>\n",
      "         </div>\n",
      "        </div>\n",
      "       </div>\n",
      "       <!--  \n",
      "    </body>\n",
      "    -->\n",
      "       <!--<br>PAGE CONTENT<br> WILL<br> BE<br> SITUATED HERE-->\n",
      "      </div>\n",
      "     </div>\n",
      "    </div>\n",
      "   </div>\n",
      "   <!-- Used mainly for context panel -->\n",
      "  </section>\n",
      "  <div id=\"emuseum-mycollections-chooser\">\n",
      "   <!-- Modal -->\n",
      "   <div class=\"modal fade\" id=\"mycollections-chooser-modal\" role=\"dialog\" tabindex=\"-1\">\n",
      "    <div class=\"modal-dialog\" role=\"document\">\n",
      "     <div class=\"modal-content\">\n",
      "      <div class=\"modal-header\">\n",
      "       <button aria-label=\"Close\" class=\"close\" data-dismiss=\"modal\" type=\"button\">\n",
      "        <span aria-hidden=\"true\">\n",
      "         ×\n",
      "        </span>\n",
      "       </button>\n",
      "       <h2 class=\"modal-title\" id=\"myModalLabel\">\n",
      "        Choose Collection\n",
      "       </h2>\n",
      "      </div>\n",
      "      <div class=\"modal-body\">\n",
      "       <div data-container-type=\"zone\" id=\"addToMyCollectionsZone\">\n",
      "        <form action=\"/objects/details.mycollectionschooser.newmycollectionform/519903;jsessionid=73F0464CCB2A935E81FCED02911DAC67\" data-update-zone=\"addToMyCollectionsZone\" data-validate=\"submit\" id=\"newMyCollectionForm\" method=\"post\">\n",
      "         <input name=\"t:ac\" type=\"hidden\" value=\"519903/vase\"/>\n",
      "         <input name=\"t:formdata\" type=\"hidden\" value=\"JnoFe8XIM2dM0YzR7+R6+LNRCx4=:H4sIAAAAAAAAAJWQsUoDQRRFn4uCkEIQLOy1EGS2SRC0MSqCEEJg8QNmZ5+bCbPzxpm3btJY+RM2foFY6ReksPMf/AAbCysLd9cyIKY9XO493McPWKv2YY/SCSoO8Rmy1CYcFjNFxtRIkw1qTBTQCysLhOChRz4X0kk1RsHSYWA/6wlFHo1ORSoDin5aQ6n4XKPJdhLk0u1ezjvvW6/fEawMoKPIsiczrCsZNgcTeSNjI20eJ+y1zY+mjmG1GVzarr+s3ciTwhCSMi10CHXl/CnrXn09vEUAU1cdQPdf+8qjZLRYpSUz2Ubl+E8VRYUji5aDaLd50eQ++dx+eb47jSAawLoyuk5fZNdw236IBosaNB+2qPls41djiNVJq7FIfgAoSEbH8wEAAA==\"/>\n",
      "         <fieldset>\n",
      "          <legend>\n",
      "           Create new collection\n",
      "          </legend>\n",
      "          <input class=\"form-control\" data-max-length-message=\"You may provide at most 50 characters for Name.\" data-validate-max-length=\"50\" data-validation=\"true\" id=\"name\" name=\"name\" placeholder=\"Name\" type=\"text\"/>\n",
      "          <input class=\"emuseum-button\" data-submit-mode=\"normal\" id=\"createNewButton\" name=\"createNewButton\" type=\"submit\" value=\"Create and add\"/>\n",
      "         </fieldset>\n",
      "        </form>\n",
      "       </div>\n",
      "      </div>\n",
      "     </div>\n",
      "    </div>\n",
      "   </div>\n",
      "  </div>\n",
      "  <script type=\"text/javascript\">\n",
      "   var a2a_config = a2a_config || {};\n",
      "a2a_config.onclick = 1;\n",
      "  </script>\n",
      "  <script async=\"async\" src=\"//static.addtoany.com/menu/page.js\">\n",
      "  </script>\n",
      "  <script type=\"text/javascript\">\n",
      "   var require = {\"shim\":{\"t5/core/typeahead\":[\"jquery\"]},\"baseUrl\":\"/modules.gz\"};\n",
      "  </script>\n",
      "  <script src=\"/assets/stack/za2888560/en/core.js\" type=\"text/javascript\">\n",
      "  </script>\n",
      "  <script type=\"text/javascript\">\n",
      "   require([\"t5/core/pageinit\"], function(pi) { pi([\"/assets/meta/z9eae8294/js/emuseum.js\"], [\"t5/core/forms\",\"t5/core/zone\",\"bootstrap/alert\",\"t5/core/validation\"]); });\n",
      "  </script>\n",
      " </body>\n",
      "</html>\n"
     ]
    }
   ],
   "source": [
    "print(soup.prettify())"
   ]
  },
  {
   "cell_type": "code",
   "execution_count": 298,
   "metadata": {},
   "outputs": [],
   "source": [
    "provhtml = soup.find_all(\"div\", {\"class\":\"detailField provenanceField\"})"
   ]
  },
  {
   "cell_type": "code",
   "execution_count": 299,
   "metadata": {},
   "outputs": [],
   "source": [
    "dischtml = soup.find_all(\"div\", {\"class\":\"detailField webDescriptionField\"})"
   ]
  },
  {
   "cell_type": "code",
   "execution_count": 300,
   "metadata": {},
   "outputs": [],
   "source": [
    "if len(provhtml) >= 2:\n",
    "    raise ValueError(\"multiple fields detected\")"
   ]
  },
  {
   "cell_type": "code",
   "execution_count": 301,
   "metadata": {},
   "outputs": [],
   "source": [
    "provStr = provhtml[0].contents[1].text # Contents[0] is the title, [1] should be the data "
   ]
  },
  {
   "cell_type": "code",
   "execution_count": 302,
   "metadata": {},
   "outputs": [],
   "source": [
    "provStr = provStr.split('NOTE:')[0].split('\\r')[0]"
   ]
  },
  {
   "cell_type": "code",
   "execution_count": 303,
   "metadata": {},
   "outputs": [
    {
     "data": {
      "text/plain": [
       "'By 1990, owned by American Decorative Arts (gallery), Northampton, Massachusetts; January 24, 1990, sold by Chris Kennedy of American Decorative Arts to John Axelrod, Boston, Massachusetts; 2008, promised gift of John Axelrod to the Museum; 2014, gift of Axelrod to the MFA. (Accession date: October 29, 2014)'"
      ]
     },
     "execution_count": 303,
     "metadata": {},
     "output_type": "execute_result"
    }
   ],
   "source": [
    "provStr"
   ]
  },
  {
   "cell_type": "code",
   "execution_count": 304,
   "metadata": {},
   "outputs": [],
   "source": [
    "provLst = re.split(' to ',provStr)"
   ]
  },
  {
   "cell_type": "code",
   "execution_count": 307,
   "metadata": {},
   "outputs": [
    {
     "data": {
      "text/plain": [
       "['By 1990, owned by American Decorative Arts (gallery), Northampton, Massachusetts; January 24, 1990, sold by Chris Kennedy of American Decorative Arts',\n",
       " 'John Axelrod, Boston, Massachusetts; 2008, promised gift of John Axelrod',\n",
       " 'the Museum; 2014, gift of Axelrod',\n",
       " 'the MFA. (Accession date: October 29, 2014)']"
      ]
     },
     "execution_count": 307,
     "metadata": {},
     "output_type": "execute_result"
    }
   ],
   "source": [
    "provLst"
   ]
  },
  {
   "cell_type": "code",
   "execution_count": 306,
   "metadata": {},
   "outputs": [],
   "source": [
    "times = []\n",
    "places = []\n",
    "addresses = []\n",
    "coordinates = []\n",
    "for element in provLst:\n",
    "    years = re.findall(r\"[0-9]{4}\", element)\n",
    "    if not years:\n",
    "        raise ValueError(\"year missing\")\n",
    "    times.append(years[-1])\n",
    "    place = list(dict.fromkeys([re.sub(r'[^\\w\\s]','',word) for word in element.split() if word[0].isupper() ]))\n",
    "    place = ' '.join(place)\n",
    "    places.append(place)\n",
    "    geocode_result = gmaps.geocode(place)\n",
    "    addresses.append(re.sub(r',',';',geocode_result[0]['formatted_address']))\n",
    "    ECo,NCo = geocode_result[0]['geometry']['location'].values()\n",
    "    coordinates.append((ECo,NCo))"
   ]
  },
  {
   "cell_type": "code",
   "execution_count": 308,
   "metadata": {},
   "outputs": [],
   "source": [
    "with open('../provenance/'+itemId+'.csv', mode='w') as employee_file:\n",
    "    prov_writer = csv.writer(employee_file, delimiter=',', quotechar='\"', quoting=csv.QUOTE_MINIMAL)\n",
    "    for ii,(time,place,address,coordinate) in enumerate(zip(times,places,addresses,coordinates)):\n",
    "        prov_writer.writerow([ii,time,place,address,coordinate[0],coordinate[1]])"
   ]
  },
  {
   "cell_type": "code",
   "execution_count": 309,
   "metadata": {},
   "outputs": [],
   "source": [
    "internalHttp = soup.find_all(\"img\", {\"class\":\"disable-click\"})[0]['src']\n",
    "image_url = 'https://collections.mfa.org/' + internalHttp"
   ]
  },
  {
   "cell_type": "code",
   "execution_count": 310,
   "metadata": {},
   "outputs": [],
   "source": [
    "try: \n",
    "    artist = soup.find_all(\"div\", {\"class\":\"detailField peopleField\"})[0].text\n",
    "except IndexError:\n",
    "    artist = 'Unknown'"
   ]
  },
  {
   "cell_type": "code",
   "execution_count": 311,
   "metadata": {},
   "outputs": [],
   "source": [
    "metadata = {'disc': dischtml[0].text, \\\n",
    "            'name' : soup.find_all(\"h2\")[0].text, \\\n",
    "            'by': artist, \\\n",
    "            'image_url': image_url,\n",
    "            'yearmade' : re.findall(r\"[0-9]{4}\",soup.find_all(\"div\", {\"class\":\"detailField displayDateField\"})[0].text)[-1],\n",
    "            'tags':tags}"
   ]
  },
  {
   "cell_type": "code",
   "execution_count": 312,
   "metadata": {},
   "outputs": [],
   "source": [
    "with open('../metadata/'+itemId+'.json', 'w') as outfile:  \n",
    "    json.dump(metadata, outfile) "
   ]
  },
  {
   "cell_type": "code",
   "execution_count": null,
   "metadata": {},
   "outputs": [],
   "source": []
  },
  {
   "cell_type": "code",
   "execution_count": 292,
   "metadata": {},
   "outputs": [
    {
     "data": {
      "text/plain": [
       "'\\ninternalHttp = soup.find_all(\"img\", {\"class\":\"disable-click\"})[0][\\'src\\']\\nimage_url = \\'https://collections.mfa.org/\\' + internalHttp\\nr = requests.get(image_url, stream = True)\\nr.raw.decode_content = True\\nwith open(\\'../media/\\'+itemId+\\'.jpg\\', \\'wb\\') as handler:\\n    handler.write(r.raw.read())\\n'"
      ]
     },
     "execution_count": 292,
     "metadata": {},
     "output_type": "execute_result"
    }
   ],
   "source": [
    "'''\n",
    "internalHttp = soup.find_all(\"img\", {\"class\":\"disable-click\"})[0]['src']\n",
    "image_url = 'https://collections.mfa.org/' + internalHttp\n",
    "r = requests.get(image_url, stream = True)\n",
    "r.raw.decode_content = True\n",
    "with open('../media/'+itemId+'.jpg', 'wb') as handler:\n",
    "    handler.write(r.raw.read())\n",
    "'''"
   ]
  },
  {
   "cell_type": "code",
   "execution_count": null,
   "metadata": {},
   "outputs": [],
   "source": []
  }
 ],
 "metadata": {
  "kernelspec": {
   "display_name": "Python 3",
   "language": "python",
   "name": "python3"
  },
  "language_info": {
   "codemirror_mode": {
    "name": "ipython",
    "version": 3
   },
   "file_extension": ".py",
   "mimetype": "text/x-python",
   "name": "python",
   "nbconvert_exporter": "python",
   "pygments_lexer": "ipython3",
   "version": "3.7.4"
  }
 },
 "nbformat": 4,
 "nbformat_minor": 2
}
